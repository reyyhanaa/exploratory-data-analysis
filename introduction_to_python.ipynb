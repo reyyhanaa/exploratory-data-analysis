{
 "cells": [
  {
   "cell_type": "markdown",
   "id": "4575da9a",
   "metadata": {
    "id": "4575da9a"
   },
   "source": [
    "# Input - Output\n",
    "Inputs and outputs are close to the discussion of variables\n",
    "\n",
    "## Variables\n",
    "\n",
    "Variables are containers for storing data values.\n",
    "\n",
    "## Creating Variables\n",
    "\n",
    "Python has no command for declaring a variable.\n",
    "\n",
    "A variable is created the moment you first assign a value to it."
   ]
  },
  {
   "cell_type": "code",
   "execution_count": null,
   "id": "b3a48be5",
   "metadata": {
    "id": "b3a48be5"
   },
   "outputs": [],
   "source": []
  },
  {
   "cell_type": "code",
   "execution_count": null,
   "id": "61b7f4f8",
   "metadata": {
    "id": "61b7f4f8"
   },
   "outputs": [],
   "source": []
  },
  {
   "cell_type": "markdown",
   "id": "3f9db696",
   "metadata": {
    "id": "3f9db696"
   },
   "source": [
    "# Heading 1\n",
    "Python adalah bahasa pemrograman yang menyenangkan untuk dipelajari. Bahasa pemrograman python untuk data scientist berguna memproses :\n",
    "1. Data visualisasi\n",
    "2. Data cleaning\n",
    "3. Modelling Machine Learning\n",
    "\n",
    "- Modelling Machine Learning\n",
    "- Data cleaning\n",
    "- Data visualisasi\n",
    "\n",
    "## Heading 2\n",
    "### Heading 3\n",
    "#### Heading 4\n",
    "##### Heading 5"
   ]
  },
  {
   "cell_type": "code",
   "execution_count": 10,
   "id": "312f438d",
   "metadata": {
    "colab": {
     "base_uri": "https://localhost:8080/"
    },
    "executionInfo": {
     "elapsed": 67,
     "status": "ok",
     "timestamp": 1744724021821,
     "user": {
      "displayName": "Kurnia Freelancer",
      "userId": "04717991342523634432"
     },
     "user_tz": -420
    },
    "id": "312f438d",
    "outputId": "d5be1e05-5d6e-4e97-f28b-195a046f0ca6"
   },
   "outputs": [
    {
     "name": "stdout",
     "output_type": "stream",
     "text": [
      "temen-temen DS belajar python\n"
     ]
    }
   ],
   "source": [
    "# print value\n",
    "print('temen-temen DS belajar python')"
   ]
  },
  {
   "cell_type": "code",
   "execution_count": 43,
   "id": "e99b8cb3",
   "metadata": {},
   "outputs": [
    {
     "data": {
      "text/plain": [
       "'teman-teman DS belajar python'"
      ]
     },
     "execution_count": 43,
     "metadata": {},
     "output_type": "execute_result"
    }
   ],
   "source": [
    "teman_ds = \"teman-teman DS belajar python\"\n",
    "teman_ds"
   ]
  },
  {
   "cell_type": "code",
   "execution_count": 11,
   "id": "347ac592",
   "metadata": {
    "colab": {
     "base_uri": "https://localhost:8080/"
    },
    "executionInfo": {
     "elapsed": 13,
     "status": "ok",
     "timestamp": 1744724041412,
     "user": {
      "displayName": "Kurnia Freelancer",
      "userId": "04717991342523634432"
     },
     "user_tz": -420
    },
    "id": "347ac592",
    "outputId": "2b45fd86-83e6-4bcd-b5b6-a8468250ffb8"
   },
   "outputs": [
    {
     "name": "stdout",
     "output_type": "stream",
     "text": [
      "5\n",
      "Bootcamp Data Scientist\n"
     ]
    }
   ],
   "source": [
    "x = 5\n",
    "y = \"Bootcamp Data Scientist\"\n",
    "\n",
    "\n",
    "# x and y are variable\n",
    "\n",
    "print(x) # print output value x\n",
    "print(y) # print output value y"
   ]
  },
  {
   "cell_type": "markdown",
   "id": "563fe28a",
   "metadata": {
    "id": "563fe28a"
   },
   "source": [
    "Variables do not need to be declared with any particular type, and can even change type after they have been set."
   ]
  },
  {
   "cell_type": "code",
   "execution_count": 12,
   "id": "a51f062c",
   "metadata": {
    "colab": {
     "base_uri": "https://localhost:8080/"
    },
    "executionInfo": {
     "elapsed": 46,
     "status": "ok",
     "timestamp": 1744724151486,
     "user": {
      "displayName": "Kurnia Freelancer",
      "userId": "04717991342523634432"
     },
     "user_tz": -420
    },
    "id": "a51f062c",
    "outputId": "846ebb9f-79a0-426a-a551-9cb4fc2584e9"
   },
   "outputs": [
    {
     "name": "stdout",
     "output_type": "stream",
     "text": [
      "3.8\n"
     ]
    }
   ],
   "source": [
    "x = 4     # x is of type int\n",
    "x = \"Sally\" # x is now of type str\n",
    "x = 3.8\n",
    "print(x)"
   ]
  },
  {
   "cell_type": "code",
   "execution_count": 13,
   "id": "d1750695",
   "metadata": {
    "colab": {
     "base_uri": "https://localhost:8080/"
    },
    "executionInfo": {
     "elapsed": 4,
     "status": "ok",
     "timestamp": 1744724114175,
     "user": {
      "displayName": "Kurnia Freelancer",
      "userId": "04717991342523634432"
     },
     "user_tz": -420
    },
    "id": "d1750695",
    "outputId": "79ba4d5e-0e8a-44ed-a6f7-29dd093b0035"
   },
   "outputs": [
    {
     "name": "stdout",
     "output_type": "stream",
     "text": [
      "4\n",
      "Sally\n"
     ]
    }
   ],
   "source": [
    "x = 4     # x is of type int\n",
    "print(x)\n",
    "x = \"Sally\" # x is now of type str\n",
    "print(x)"
   ]
  },
  {
   "cell_type": "markdown",
   "id": "a11be9d8",
   "metadata": {
    "id": "a11be9d8"
   },
   "source": [
    "## Casting\n",
    "\n",
    "If you want to specify the data type of a variable, this can be done with casting."
   ]
  },
  {
   "cell_type": "code",
   "execution_count": 14,
   "id": "6a2363c1",
   "metadata": {
    "colab": {
     "base_uri": "https://localhost:8080/"
    },
    "executionInfo": {
     "elapsed": 11,
     "status": "ok",
     "timestamp": 1744724190834,
     "user": {
      "displayName": "Kurnia Freelancer",
      "userId": "04717991342523634432"
     },
     "user_tz": -420
    },
    "id": "6a2363c1",
    "outputId": "089eab83-37f7-4d84-cf45-9cf57804f2b3"
   },
   "outputs": [
    {
     "name": "stdout",
     "output_type": "stream",
     "text": [
      "3\n",
      "3\n",
      "3.0\n"
     ]
    }
   ],
   "source": [
    "x = str(3)    # x will be '3'\n",
    "y = int(3)    # y will be 3\n",
    "z = float(3)  # z will be 3.0\n",
    "\n",
    "print(x)\n",
    "print(y)\n",
    "print(z)"
   ]
  },
  {
   "cell_type": "code",
   "execution_count": 15,
   "id": "e59f9215",
   "metadata": {
    "colab": {
     "base_uri": "https://localhost:8080/",
     "height": 35
    },
    "executionInfo": {
     "elapsed": 14,
     "status": "ok",
     "timestamp": 1744724228930,
     "user": {
      "displayName": "Kurnia Freelancer",
      "userId": "04717991342523634432"
     },
     "user_tz": -420
    },
    "id": "e59f9215",
    "outputId": "1fdecdea-eff4-4347-d484-f85f6db37880"
   },
   "outputs": [
    {
     "data": {
      "text/plain": [
       "'3'"
      ]
     },
     "execution_count": 15,
     "metadata": {},
     "output_type": "execute_result"
    }
   ],
   "source": [
    "x"
   ]
  },
  {
   "cell_type": "code",
   "execution_count": 16,
   "id": "RkQHLD-rqoXX",
   "metadata": {
    "colab": {
     "base_uri": "https://localhost:8080/"
    },
    "executionInfo": {
     "elapsed": 5,
     "status": "ok",
     "timestamp": 1744724201613,
     "user": {
      "displayName": "Kurnia Freelancer",
      "userId": "04717991342523634432"
     },
     "user_tz": -420
    },
    "id": "RkQHLD-rqoXX",
    "outputId": "87f878c7-77a5-4f47-f14c-a123276c7840"
   },
   "outputs": [
    {
     "data": {
      "text/plain": [
       "3"
      ]
     },
     "execution_count": 16,
     "metadata": {},
     "output_type": "execute_result"
    }
   ],
   "source": [
    "y"
   ]
  },
  {
   "cell_type": "code",
   "execution_count": 17,
   "id": "z5ZbbCkJqpnj",
   "metadata": {
    "colab": {
     "base_uri": "https://localhost:8080/"
    },
    "executionInfo": {
     "elapsed": 6,
     "status": "ok",
     "timestamp": 1744724206103,
     "user": {
      "displayName": "Kurnia Freelancer",
      "userId": "04717991342523634432"
     },
     "user_tz": -420
    },
    "id": "z5ZbbCkJqpnj",
    "outputId": "472b62d2-35a9-4a44-f46b-774b7866e7f4"
   },
   "outputs": [
    {
     "data": {
      "text/plain": [
       "3.0"
      ]
     },
     "execution_count": 17,
     "metadata": {},
     "output_type": "execute_result"
    }
   ],
   "source": [
    "z"
   ]
  },
  {
   "cell_type": "markdown",
   "id": "4f38d839",
   "metadata": {
    "id": "4f38d839"
   },
   "source": [
    "## Get the Type\n",
    "\n",
    "You can get the data type of a variable with the type() function."
   ]
  },
  {
   "cell_type": "code",
   "execution_count": 18,
   "id": "cab5fcf6",
   "metadata": {
    "colab": {
     "base_uri": "https://localhost:8080/"
    },
    "executionInfo": {
     "elapsed": 12,
     "status": "ok",
     "timestamp": 1744724249080,
     "user": {
      "displayName": "Kurnia Freelancer",
      "userId": "04717991342523634432"
     },
     "user_tz": -420
    },
    "id": "cab5fcf6",
    "outputId": "e3c625d4-bf27-4dd7-f217-a6560d3d548d"
   },
   "outputs": [
    {
     "name": "stdout",
     "output_type": "stream",
     "text": [
      "<class 'int'>\n",
      "<class 'str'>\n",
      "<class 'float'>\n"
     ]
    }
   ],
   "source": [
    "# assign x and y with check value type\n",
    "x = 5\n",
    "y = \"John\"\n",
    "z = 3.5\n",
    "print(type(x))\n",
    "print(type(y))\n",
    "print(type(z))"
   ]
  },
  {
   "cell_type": "code",
   "execution_count": 19,
   "id": "9020cef0",
   "metadata": {
    "colab": {
     "base_uri": "https://localhost:8080/"
    },
    "executionInfo": {
     "elapsed": 5,
     "status": "ok",
     "timestamp": 1744724269699,
     "user": {
      "displayName": "Kurnia Freelancer",
      "userId": "04717991342523634432"
     },
     "user_tz": -420
    },
    "id": "9020cef0",
    "outputId": "5e5c5bef-a682-48e6-def2-3be335ea1d4d"
   },
   "outputs": [
    {
     "data": {
      "text/plain": [
       "int"
      ]
     },
     "execution_count": 19,
     "metadata": {},
     "output_type": "execute_result"
    }
   ],
   "source": [
    "type(x)"
   ]
  },
  {
   "cell_type": "markdown",
   "id": "79712e08",
   "metadata": {
    "id": "79712e08"
   },
   "source": [
    "Complete explanation about Data Type : https://www.w3schools.com/python/python_datatypes.asp"
   ]
  },
  {
   "cell_type": "markdown",
   "id": "bf5a0f6b",
   "metadata": {
    "id": "bf5a0f6b"
   },
   "source": [
    "## Single or Double Quotes?\n",
    "\n",
    "String variables can be declared either by using single or double quotes:"
   ]
  },
  {
   "cell_type": "code",
   "execution_count": 20,
   "id": "13eac326",
   "metadata": {
    "colab": {
     "base_uri": "https://localhost:8080/"
    },
    "executionInfo": {
     "elapsed": 4,
     "status": "ok",
     "timestamp": 1744724343359,
     "user": {
      "displayName": "Kurnia Freelancer",
      "userId": "04717991342523634432"
     },
     "user_tz": -420
    },
    "id": "13eac326",
    "outputId": "58137342-4ef1-4c81-c2ee-4d5b2da102cf"
   },
   "outputs": [
    {
     "name": "stdout",
     "output_type": "stream",
     "text": [
      "John 14\n",
      "John\n"
     ]
    }
   ],
   "source": [
    "x = \"John 14\"\n",
    "print(x)\n",
    "\n",
    "#double quotes are the same as single quotes:\n",
    "\n",
    "x = 'John'\n",
    "print(x)"
   ]
  },
  {
   "cell_type": "code",
   "execution_count": 21,
   "id": "4f4abde1",
   "metadata": {
    "colab": {
     "base_uri": "https://localhost:8080/",
     "height": 35
    },
    "executionInfo": {
     "elapsed": 6,
     "status": "ok",
     "timestamp": 1744724386407,
     "user": {
      "displayName": "Kurnia Freelancer",
      "userId": "04717991342523634432"
     },
     "user_tz": -420
    },
    "id": "4f4abde1",
    "outputId": "25ae5ebc-5fe5-485e-dd6b-743bd31c2c41"
   },
   "outputs": [
    {
     "data": {
      "text/plain": [
       "\"Ra'if\""
      ]
     },
     "execution_count": 21,
     "metadata": {},
     "output_type": "execute_result"
    }
   ],
   "source": [
    "a = \"Ra'if\"\n",
    "a"
   ]
  },
  {
   "cell_type": "code",
   "execution_count": 22,
   "id": "e02d45d4",
   "metadata": {
    "colab": {
     "base_uri": "https://localhost:8080/"
    },
    "executionInfo": {
     "elapsed": 157,
     "status": "ok",
     "timestamp": 1744724463932,
     "user": {
      "displayName": "Kurnia Freelancer",
      "userId": "04717991342523634432"
     },
     "user_tz": -420
    },
    "id": "e02d45d4",
    "outputId": "c81ef4ea-87f9-44e3-a450-819e63b7d2ca"
   },
   "outputs": [
    {
     "name": "stdout",
     "output_type": "stream",
     "text": [
      "\n",
      "kita belajar python\n",
      "hari ini di event dibimbing seru banget\n",
      "\n"
     ]
    }
   ],
   "source": [
    "kalimat = '''\n",
    "kita belajar python\n",
    "hari ini di event dibimbing seru banget\n",
    "'''\n",
    "print(kalimat)"
   ]
  },
  {
   "cell_type": "code",
   "execution_count": 23,
   "id": "4d964701",
   "metadata": {
    "colab": {
     "base_uri": "https://localhost:8080/",
     "height": 35
    },
    "executionInfo": {
     "elapsed": 17,
     "status": "ok",
     "timestamp": 1744724537480,
     "user": {
      "displayName": "Kurnia Freelancer",
      "userId": "04717991342523634432"
     },
     "user_tz": -420
    },
    "id": "4d964701",
    "outputId": "a6550ca1-e49c-4399-8b0b-4516ab5934b8"
   },
   "outputs": [
    {
     "data": {
      "text/plain": [
       "'hari ini pertemuan belajar python\\ndan serung banget eventnya\\n'"
      ]
     },
     "execution_count": 23,
     "metadata": {},
     "output_type": "execute_result"
    }
   ],
   "source": [
    "kalimat = \"\"\"hari ini pertemuan belajar python\n",
    "dan serung banget eventnya\n",
    "\"\"\"\n",
    "kalimat"
   ]
  },
  {
   "cell_type": "markdown",
   "id": "e2f98bc9",
   "metadata": {
    "id": "e2f98bc9"
   },
   "source": [
    "## Case-Sensitive\n",
    "\n",
    "Variable names are case-sensitive."
   ]
  },
  {
   "cell_type": "code",
   "execution_count": 24,
   "id": "4763f8c0",
   "metadata": {
    "colab": {
     "base_uri": "https://localhost:8080/"
    },
    "executionInfo": {
     "elapsed": 11,
     "status": "ok",
     "timestamp": 1744724574890,
     "user": {
      "displayName": "Kurnia Freelancer",
      "userId": "04717991342523634432"
     },
     "user_tz": -420
    },
    "id": "4763f8c0",
    "outputId": "9425df9c-0d0c-43b7-fd3b-1960f918a55c"
   },
   "outputs": [
    {
     "name": "stdout",
     "output_type": "stream",
     "text": [
      "4\n",
      "Sally\n"
     ]
    }
   ],
   "source": [
    "# case sensitive\n",
    "a = 4\n",
    "A = \"Sally\"\n",
    "\n",
    "print(a)\n",
    "print(A)"
   ]
  },
  {
   "cell_type": "code",
   "execution_count": 25,
   "id": "bdb26b3f",
   "metadata": {
    "colab": {
     "base_uri": "https://localhost:8080/"
    },
    "executionInfo": {
     "elapsed": 7,
     "status": "ok",
     "timestamp": 1744724576378,
     "user": {
      "displayName": "Kurnia Freelancer",
      "userId": "04717991342523634432"
     },
     "user_tz": -420
    },
    "id": "bdb26b3f",
    "outputId": "4770d644-b3a4-4f87-f721-0bed47ee7b0b"
   },
   "outputs": [
    {
     "name": "stdout",
     "output_type": "stream",
     "text": [
      "False\n"
     ]
    }
   ],
   "source": [
    "# case sensitive\n",
    "b = 'Sally'\n",
    "B = 'sally'\n",
    "print(b==B)"
   ]
  },
  {
   "cell_type": "markdown",
   "id": "bfbd7f52",
   "metadata": {
    "id": "bfbd7f52"
   },
   "source": [
    "## Legal Variabel name"
   ]
  },
  {
   "cell_type": "code",
   "execution_count": 26,
   "id": "44a4ff9f",
   "metadata": {
    "colab": {
     "base_uri": "https://localhost:8080/"
    },
    "executionInfo": {
     "elapsed": 6,
     "status": "ok",
     "timestamp": 1744724619459,
     "user": {
      "displayName": "Kurnia Freelancer",
      "userId": "04717991342523634432"
     },
     "user_tz": -420
    },
    "id": "44a4ff9f",
    "outputId": "e2f1d6eb-c54e-4578-b8f1-8fe0694fdc79"
   },
   "outputs": [
    {
     "name": "stdout",
     "output_type": "stream",
     "text": [
      "dibimbing\n",
      "dibimbing\n",
      "dibimbing\n",
      "dibimbing\n",
      "dibimbing\n",
      "dibimbing\n",
      "dibimbing\n"
     ]
    }
   ],
   "source": [
    "myvar = \"dibimbing\" # huruf kecil semua\n",
    "my_var = \"dibimbing\" # setiap kata dipisahkan underscore character\n",
    "_my_var = \"dibimbing\" # tipe snake case, dipisahkan oleh underscore\n",
    "myVar = \"dibimbing\" # Camel Case : huruf pertama kecil, kata berikutnya memiliki huruf awalannya besar\n",
    "MYVAR = \"dibimbing\" # Huruf besar semua\n",
    "myvar2 = \"dibimbing\" # huruf kecil + angka\n",
    "MYVAR2 = \"dibimbing\" # Huruf besar semua\n",
    "\n",
    "print(myvar)\n",
    "print(my_var)\n",
    "print(_my_var)\n",
    "print(myVar)\n",
    "print(MYVAR)\n",
    "print(myvar2)\n",
    "print(MYVAR2)"
   ]
  },
  {
   "cell_type": "markdown",
   "id": "41569573",
   "metadata": {
    "id": "41569573"
   },
   "source": [
    "## Illegal Variabel Name"
   ]
  },
  {
   "cell_type": "code",
   "execution_count": 27,
   "id": "bd190c60",
   "metadata": {
    "colab": {
     "base_uri": "https://localhost:8080/",
     "height": 106
    },
    "executionInfo": {
     "elapsed": 7,
     "status": "error",
     "timestamp": 1744724647005,
     "user": {
      "displayName": "Kurnia Freelancer",
      "userId": "04717991342523634432"
     },
     "user_tz": -420
    },
    "id": "bd190c60",
    "outputId": "942074f6-e5a5-448d-92d7-476327a91c26"
   },
   "outputs": [],
   "source": [
    "myvar =  10\n",
    "\n",
    "#This example will produce an error in the result"
   ]
  },
  {
   "cell_type": "code",
   "execution_count": 28,
   "id": "4c030272",
   "metadata": {
    "colab": {
     "base_uri": "https://localhost:8080/",
     "height": 106
    },
    "executionInfo": {
     "elapsed": 6,
     "status": "error",
     "timestamp": 1744724653090,
     "user": {
      "displayName": "Kurnia Freelancer",
      "userId": "04717991342523634432"
     },
     "user_tz": -420
    },
    "id": "4c030272",
    "outputId": "9eb3755b-3603-4d61-f011-26ea99e29abd"
   },
   "outputs": [],
   "source": [
    "myvar = \"John\"\n",
    "\n",
    "#This example will produce an error in the result"
   ]
  },
  {
   "cell_type": "code",
   "execution_count": 29,
   "id": "0de4defe",
   "metadata": {
    "colab": {
     "base_uri": "https://localhost:8080/",
     "height": 106
    },
    "executionInfo": {
     "elapsed": 8,
     "status": "error",
     "timestamp": 1744724656525,
     "user": {
      "displayName": "Kurnia Freelancer",
      "userId": "04717991342523634432"
     },
     "user_tz": -420
    },
    "id": "0de4defe",
    "outputId": "8d65052d-20ac-41d7-bb83-2d37367e14dd"
   },
   "outputs": [],
   "source": [
    "myvar = \"John\"\n",
    "\n",
    "#This example will produce an error in the result"
   ]
  },
  {
   "cell_type": "markdown",
   "id": "164e6a80",
   "metadata": {
    "id": "164e6a80"
   },
   "source": [
    "## Ouput Variables\n",
    "The Python print() function is often used to output variables."
   ]
  },
  {
   "cell_type": "markdown",
   "id": "a0898a99",
   "metadata": {
    "id": "a0898a99"
   },
   "source": [
    "Notice the space character after \"Python \" and \"is \", without them the result would be \"Pythonisawesome\"."
   ]
  },
  {
   "cell_type": "code",
   "execution_count": 30,
   "id": "8e966d7d",
   "metadata": {
    "colab": {
     "base_uri": "https://localhost:8080/"
    },
    "executionInfo": {
     "elapsed": 5,
     "status": "ok",
     "timestamp": 1744724676103,
     "user": {
      "displayName": "Kurnia Freelancer",
      "userId": "04717991342523634432"
     },
     "user_tz": -420
    },
    "id": "8e966d7d",
    "outputId": "14af2da8-48c1-40e0-bb34-ccd3d7388f3a"
   },
   "outputs": [
    {
     "name": "stdout",
     "output_type": "stream",
     "text": [
      "15.8\n"
     ]
    }
   ],
   "source": [
    "# sum\n",
    "x = 5\n",
    "y = 10.8\n",
    "print(x + y)"
   ]
  },
  {
   "cell_type": "code",
   "execution_count": 31,
   "id": "aad93a2b",
   "metadata": {
    "colab": {
     "base_uri": "https://localhost:8080/",
     "height": 176
    },
    "executionInfo": {
     "elapsed": 25,
     "status": "error",
     "timestamp": 1744724684171,
     "user": {
      "displayName": "Kurnia Freelancer",
      "userId": "04717991342523634432"
     },
     "user_tz": -420
    },
    "id": "aad93a2b",
    "outputId": "4256da23-f085-4d25-8215-f8f0bd7f3a26"
   },
   "outputs": [
    {
     "name": "stdout",
     "output_type": "stream",
     "text": [
      "(5, 'John')\n"
     ]
    }
   ],
   "source": [
    "# cannot sum numeric + string\n",
    "x = 5,\n",
    "y = \"John\",\n",
    "print(x + y)"
   ]
  },
  {
   "cell_type": "code",
   "execution_count": 44,
   "id": "e8tgXlUgsgRe",
   "metadata": {
    "colab": {
     "base_uri": "https://localhost:8080/"
    },
    "executionInfo": {
     "elapsed": 44,
     "status": "ok",
     "timestamp": 1744724699986,
     "user": {
      "displayName": "Kurnia Freelancer",
      "userId": "04717991342523634432"
     },
     "user_tz": -420
    },
    "id": "e8tgXlUgsgRe",
    "outputId": "88b74297-b90b-43ca-d850-03381e8753af"
   },
   "outputs": [
    {
     "name": "stdout",
     "output_type": "stream",
     "text": [
      "5John\n"
     ]
    }
   ],
   "source": [
    "# cannot sum numeric + string\n",
    "x = '5'\n",
    "y = \"John\"\n",
    "print(x + y)"
   ]
  },
  {
   "cell_type": "markdown",
   "id": "6710ad46",
   "metadata": {
    "id": "6710ad46"
   },
   "source": [
    "The best way to output multiple variables in the print() function is to separate them with commas, which even support different data types:"
   ]
  },
  {
   "cell_type": "markdown",
   "id": "f4617870",
   "metadata": {
    "id": "f4617870"
   },
   "source": [
    "## Python Conditions and If statements\n",
    "\n",
    "### Python supports the usual logical conditions from mathematics:\n",
    "\n",
    " -   Equals: a == b\n",
    " -   Not Equals: a != b\n",
    " -   Less than: a < b\n",
    " -   Less than or equal to: a <= b\n",
    " -   Greater than: a > b\n",
    " -   Greater than or equal to: a >= b\n",
    "\n",
    "These conditions can be used in several ways, most commonly in \"if statements\" and loops.\n",
    "\n",
    "An \"if statement\" is written by using the if keyword.\n",
    "\n",
    "## If"
   ]
  },
  {
   "cell_type": "code",
   "execution_count": 45,
   "id": "046431fd",
   "metadata": {
    "id": "046431fd"
   },
   "outputs": [
    {
     "name": "stdout",
     "output_type": "stream",
     "text": [
      "b is greater than a\n"
     ]
    }
   ],
   "source": [
    "a = 20\n",
    "b = 50\n",
    "if b > a: # jika kondisi b > a benar maka akan memerintah kondisi indentasi dibawah\n",
    "    print(\"b is greater than a\")\n",
    "\n",
    "# if condition"
   ]
  },
  {
   "cell_type": "code",
   "execution_count": 34,
   "id": "9ae64683",
   "metadata": {
    "colab": {
     "base_uri": "https://localhost:8080/"
    },
    "executionInfo": {
     "elapsed": 6,
     "status": "ok",
     "timestamp": 1744724813320,
     "user": {
      "displayName": "Kurnia Freelancer",
      "userId": "04717991342523634432"
     },
     "user_tz": -420
    },
    "id": "9ae64683",
    "outputId": "c2f6a6ec-3885-408f-8856-66a8467158a2"
   },
   "outputs": [
    {
     "name": "stdout",
     "output_type": "stream",
     "text": [
      "b is greater than a\n"
     ]
    }
   ],
   "source": [
    "a = 33\n",
    "b = 200\n",
    "if b > a: # jika kondisi b > a benar maka akan memerintah kondisi indentasi dibawah\n",
    "  print(\"b is greater than a\") # you will get an error ( tidak ada indentasi )"
   ]
  },
  {
   "cell_type": "markdown",
   "id": "1f575903",
   "metadata": {
    "id": "1f575903"
   },
   "source": [
    "## Elif\n",
    "\n",
    "The elif keyword is Python's way of saying \"if the previous conditions were not true, then try this condition\"."
   ]
  },
  {
   "cell_type": "code",
   "execution_count": 35,
   "id": "e8a13596",
   "metadata": {
    "colab": {
     "base_uri": "https://localhost:8080/"
    },
    "executionInfo": {
     "elapsed": 28,
     "status": "ok",
     "timestamp": 1744724860872,
     "user": {
      "displayName": "Kurnia Freelancer",
      "userId": "04717991342523634432"
     },
     "user_tz": -420
    },
    "id": "e8a13596",
    "outputId": "abd664c2-c014-4921-a8fa-a661c85b4282"
   },
   "outputs": [
    {
     "name": "stdout",
     "output_type": "stream",
     "text": [
      "b is greater than a\n"
     ]
    }
   ],
   "source": [
    "# if and elif\n",
    "a = 33\n",
    "b = 40\n",
    "if b > a:\n",
    "    print(\"b is greater than a\")\n",
    "elif a == b:\n",
    "    print(\"a and b are equal\")"
   ]
  },
  {
   "cell_type": "markdown",
   "id": "1782ecaa",
   "metadata": {
    "id": "1782ecaa"
   },
   "source": [
    "In this example a is equal to b, so the first condition is not true, but the elif condition is true, so we print to screen that \"a and b are equal\"."
   ]
  },
  {
   "cell_type": "markdown",
   "id": "45afb84c",
   "metadata": {
    "id": "45afb84c"
   },
   "source": [
    "## Else\n",
    "\n",
    "The else keyword catches anything which isn't caught by the preceding conditions."
   ]
  },
  {
   "cell_type": "code",
   "execution_count": 36,
   "id": "718df852",
   "metadata": {
    "colab": {
     "base_uri": "https://localhost:8080/"
    },
    "executionInfo": {
     "elapsed": 18,
     "status": "ok",
     "timestamp": 1744724914939,
     "user": {
      "displayName": "Kurnia Freelancer",
      "userId": "04717991342523634432"
     },
     "user_tz": -420
    },
    "id": "718df852",
    "outputId": "4ebf3e00-68c0-408c-d82f-5997fe1930cb"
   },
   "outputs": [
    {
     "name": "stdout",
     "output_type": "stream",
     "text": [
      "unknown value\n"
     ]
    }
   ],
   "source": [
    "# if and elif and else\n",
    "\n",
    "a = 200\n",
    "b = 33\n",
    "if b > a:\n",
    "    print(\"b is greater than a\")\n",
    "elif a == b:\n",
    "    print(\"a and b are equal\")\n",
    "elif a<b:\n",
    "    print(\"a less than b\")\n",
    "else:\n",
    "    print('unknown value')"
   ]
  },
  {
   "cell_type": "markdown",
   "id": "e8212e74",
   "metadata": {
    "id": "e8212e74"
   },
   "source": [
    "In this example a is greater than b, so the first condition is not true, also the elif condition is not true, so we go to the else condition and print to screen that \"a is greater than b\".\n",
    "You can also have an else without the elif:"
   ]
  },
  {
   "cell_type": "code",
   "execution_count": 37,
   "id": "9KYmherltfR4",
   "metadata": {
    "colab": {
     "base_uri": "https://localhost:8080/"
    },
    "executionInfo": {
     "elapsed": 6,
     "status": "ok",
     "timestamp": 1744724962998,
     "user": {
      "displayName": "Kurnia Freelancer",
      "userId": "04717991342523634432"
     },
     "user_tz": -420
    },
    "id": "9KYmherltfR4",
    "outputId": "9488fefb-e1af-4741-8002-675ea26cc239"
   },
   "outputs": [
    {
     "data": {
      "text/plain": [
       "False"
      ]
     },
     "execution_count": 37,
     "metadata": {},
     "output_type": "execute_result"
    }
   ],
   "source": [
    "5 < 3"
   ]
  },
  {
   "cell_type": "code",
   "execution_count": 38,
   "id": "27380469",
   "metadata": {
    "colab": {
     "base_uri": "https://localhost:8080/"
    },
    "executionInfo": {
     "elapsed": 8,
     "status": "ok",
     "timestamp": 1744724996407,
     "user": {
      "displayName": "Kurnia Freelancer",
      "userId": "04717991342523634432"
     },
     "user_tz": -420
    },
    "id": "27380469",
    "outputId": "535f9cef-9b49-4170-b0ac-e9dc77718618"
   },
   "outputs": [
    {
     "name": "stdout",
     "output_type": "stream",
     "text": [
      "b is not greater than a\n"
     ]
    }
   ],
   "source": [
    "# if and else\n",
    "\n",
    "a = 200\n",
    "b = 33\n",
    "if b > a:\n",
    "    print(\"b is greater than a\")\n",
    "else:\n",
    "    print(\"b is not greater than a\")"
   ]
  },
  {
   "cell_type": "markdown",
   "id": "3f4cb269",
   "metadata": {
    "id": "3f4cb269"
   },
   "source": [
    "## And\n",
    "\n",
    "The and keyword is a logical operator, and is used to combine conditional statements:"
   ]
  },
  {
   "cell_type": "code",
   "execution_count": 39,
   "id": "11524c82",
   "metadata": {
    "colab": {
     "base_uri": "https://localhost:8080/"
    },
    "executionInfo": {
     "elapsed": 11,
     "status": "ok",
     "timestamp": 1744725028096,
     "user": {
      "displayName": "Kurnia Freelancer",
      "userId": "04717991342523634432"
     },
     "user_tz": -420
    },
    "id": "11524c82",
    "outputId": "57cfa89c-3170-42f4-f6e6-232ebb66fdb4"
   },
   "outputs": [
    {
     "name": "stdout",
     "output_type": "stream",
     "text": [
      "there are no condition\n"
     ]
    }
   ],
   "source": [
    "# and condition\n",
    "a = 5\n",
    "b = 3\n",
    "c = 8\n",
    "if a > b and c > a and a == b:\n",
    "    print(\"Both conditions are True\")\n",
    "else:\n",
    "    print('there are no condition')"
   ]
  },
  {
   "cell_type": "markdown",
   "id": "ba26e6ce",
   "metadata": {
    "id": "ba26e6ce"
   },
   "source": [
    "## Or\n",
    "\n",
    "The or keyword is a logical operator, and is used to combine conditional statements:"
   ]
  },
  {
   "cell_type": "code",
   "execution_count": 40,
   "id": "f58ad65b",
   "metadata": {
    "executionInfo": {
     "elapsed": 4,
     "status": "ok",
     "timestamp": 1744725137428,
     "user": {
      "displayName": "Kurnia Freelancer",
      "userId": "04717991342523634432"
     },
     "user_tz": -420
    },
    "id": "f58ad65b"
   },
   "outputs": [
    {
     "name": "stdout",
     "output_type": "stream",
     "text": [
      "At least one of the conditions is True\n"
     ]
    }
   ],
   "source": [
    "# if and or condition\n",
    "a = 200\n",
    "b = 33\n",
    "c = 500\n",
    "if a > b or a > c and b == c:\n",
    "    print(\"At least one of the conditions is True\")"
   ]
  },
  {
   "cell_type": "markdown",
   "id": "8e049938",
   "metadata": {
    "id": "8e049938"
   },
   "source": [
    "## Not\n",
    "\n",
    "The not keyword is a logical operator, and is used to reverse the result of the conditional statement:"
   ]
  },
  {
   "cell_type": "code",
   "execution_count": 41,
   "id": "215d088b",
   "metadata": {
    "colab": {
     "base_uri": "https://localhost:8080/"
    },
    "executionInfo": {
     "elapsed": 6,
     "status": "ok",
     "timestamp": 1744725165407,
     "user": {
      "displayName": "Kurnia Freelancer",
      "userId": "04717991342523634432"
     },
     "user_tz": -420
    },
    "id": "215d088b",
    "outputId": "f383bad9-f507-4a86-850e-c2df89621336"
   },
   "outputs": [
    {
     "name": "stdout",
     "output_type": "stream",
     "text": [
      "a is NOT greater than b\n"
     ]
    }
   ],
   "source": [
    "# not condition\n",
    "a = 33\n",
    "b = 200\n",
    "if a != b:\n",
    "    print(\"a is NOT greater than b\")"
   ]
  },
  {
   "cell_type": "markdown",
   "id": "6524b515",
   "metadata": {
    "id": "6524b515"
   },
   "source": [
    "# Thank you :)"
   ]
  }
 ],
 "metadata": {
  "colab": {
   "provenance": []
  },
  "kernelspec": {
   "display_name": "base",
   "language": "python",
   "name": "python3"
  },
  "language_info": {
   "codemirror_mode": {
    "name": "ipython",
    "version": 3
   },
   "file_extension": ".py",
   "mimetype": "text/x-python",
   "name": "python",
   "nbconvert_exporter": "python",
   "pygments_lexer": "ipython3",
   "version": "3.11.5"
  }
 },
 "nbformat": 4,
 "nbformat_minor": 5
}
